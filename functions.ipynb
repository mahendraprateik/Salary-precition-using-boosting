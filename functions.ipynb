{
 "cells": [
  {
   "cell_type": "markdown",
   "metadata": {},
   "source": [
    "<h2>\n",
    "Class for miscalleanous functions\n"
   ]
  },
  {
   "cell_type": "code",
   "execution_count": null,
   "metadata": {
    "collapsed": true
   },
   "outputs": [],
   "source": [
    "import pandas as pd\n",
    "import numpy as np\n",
    "import matplotlib.pyplot as plt\n",
    "import seaborn as sns\n",
    "import xgboost as xgb"
   ]
  },
  {
   "cell_type": "code",
   "execution_count": null,
   "metadata": {
    "collapsed": true
   },
   "outputs": [],
   "source": [
    "class functions:\n",
    "    \n",
    "    def string_col_count(self, col, d):\n",
    "        \"\"\"Function to calculate unique values in a column\"\"\"\n",
    "        print(f\"{col} has {len(set(d[col].tolist()))} unique values\")\n",
    "    \n",
    "    \n",
    "    \n",
    "    def check_distribution(self, col, d):\n",
    "        \"\"\"Function to plot the graph which checks the frequecy of occurance of each value that exixts in the column\n",
    "        parameters: col: column for which the bar graph distribution would be created\"\"\"\n",
    "        plt.clf\n",
    "        plt.figure(figsize=(12,8))\n",
    "        plt.title(f'Distribution of jobs by {col}')\n",
    "        plt.xlabel(f'{col}')\n",
    "        plt.ylabel('Frequency [%]')\n",
    "\n",
    "        ax = (d[col].value_counts()/len(d)*100).sort_index().plot(kind=\"bar\", rot=0)\n",
    "        ax.set_yticks(np.arange(0, 110, 10))\n",
    "\n",
    "        ax2 = ax.twinx()\n",
    "        ax2.set_yticks(np.arange(0, 110, 10)*len(d)/100)\n",
    "\n",
    "        for p in ax.patches:\n",
    "            ax.annotate('{:.2f}%'.format(p.get_height()), (p.get_x()+0.15, p.get_height()+1))\n",
    "\n",
    "        plt.show()\n",
    "\n",
    "    \n",
    "    \n",
    "    def check_boxplot(self, col1, col2 , d):\n",
    "        \"\"\"Function that creates a big boxplot of a column by another column\n",
    "        parameters: col1: Categorical column that should appear on the x axis by which col2 would be boxplotted\n",
    "                    col2: Continuous column used to create boxplots with col1 as hue\n",
    "                    data: Dataset\"\"\"\n",
    "        \n",
    "        plt.figure(figsize=(12,10))\n",
    "        sns.boxplot(x= col1, y= col2, data=d)\n",
    "        plt.show()\n",
    "\n",
    "    \n",
    "    \n",
    "    def create_corrmap(self, d):\n",
    "        \"\"\"Function that creates pearson correlation matrix of a dataset\n",
    "        parameters: d - dataset of continuous variables for which the correlation matrix is needed\"\"\"\n",
    "       \n",
    "        f, ax1 = plt.subplots(1, figsize=(8,5))\n",
    "        ax1.set_title(\"Pearson\")\n",
    "        sns.heatmap(d.corr(), ax=ax1 ,yticklabels=d.columns,xticklabels=d.columns, annot=True, fmt='.0%')\n",
    "        ax1.figure.tight_layout()\n",
    "        plt.show()\n",
    "       "
   ]
  },
  {
   "cell_type": "code",
   "execution_count": null,
   "metadata": {
    "collapsed": true
   },
   "outputs": [],
   "source": [
    "f = functions()"
   ]
  },
  {
   "cell_type": "code",
   "execution_count": null,
   "metadata": {
    "collapsed": true
   },
   "outputs": [],
   "source": [
    "a = pd.read_csv(\"Salaries.csv\")"
   ]
  },
  {
   "cell_type": "code",
   "execution_count": null,
   "metadata": {},
   "outputs": [],
   "source": [
    "continuous_only = dataset[['Experience', 'Distance', 'Salary']]\n",
    "f.create_corrmap(continuous_only)"
   ]
  }
 ],
 "metadata": {
  "kernelspec": {
   "display_name": "Python 3",
   "language": "python",
   "name": "python3"
  },
  "language_info": {
   "codemirror_mode": {
    "name": "ipython",
    "version": 3
   },
   "file_extension": ".py",
   "mimetype": "text/x-python",
   "name": "python",
   "nbconvert_exporter": "python",
   "pygments_lexer": "ipython3",
   "version": "3.6.3"
  }
 },
 "nbformat": 4,
 "nbformat_minor": 2
}
