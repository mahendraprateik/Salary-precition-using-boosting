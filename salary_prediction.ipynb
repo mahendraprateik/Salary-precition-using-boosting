{
 "cells": [
  {
   "cell_type": "markdown",
   "metadata": {},
   "source": [
    "## Predicting Salary of a job position based on various attributes"
   ]
  },
  {
   "cell_type": "markdown",
   "metadata": {},
   "source": [
    "<h3>Importing libraries</h3>"
   ]
  },
  {
   "cell_type": "code",
   "execution_count": 50,
   "metadata": {},
   "outputs": [],
   "source": [
    "import pandas as pd\n",
    "import numpy as np\n",
    "import matplotlib.pyplot as plt\n",
    "import seaborn as sns\n",
    "import xgboost as xgb\n",
    "from functions import *\n",
    "from data_preparation import *\n",
    "from sklearn.model_selection import train_test_split\n",
    "import xgboost as xgb\n",
    "import sklearn.metrics"
   ]
  },
  {
   "cell_type": "code",
   "execution_count": 2,
   "metadata": {
    "collapsed": true
   },
   "outputs": [],
   "source": [
    "%matplotlib inline"
   ]
  },
  {
   "cell_type": "markdown",
   "metadata": {},
   "source": [
    "<h3>Importing the dataset"
   ]
  },
  {
   "cell_type": "code",
   "execution_count": 3,
   "metadata": {
    "collapsed": true
   },
   "outputs": [],
   "source": [
    "dataset = pd.read_csv(\"Salaries.csv\")"
   ]
  },
  {
   "cell_type": "markdown",
   "metadata": {},
   "source": [
    "<h3>Exploratory Analysis</h3>"
   ]
  },
  {
   "cell_type": "code",
   "execution_count": 4,
   "metadata": {},
   "outputs": [
    {
     "data": {
      "text/plain": [
       "Index(['Job code', 'Company', 'Experience', 'Distance', 'Highest Degree',\n",
       "       'Major Subject', 'Designation ', 'Domain', 'Salary'],\n",
       "      dtype='object')"
      ]
     },
     "execution_count": 4,
     "metadata": {},
     "output_type": "execute_result"
    }
   ],
   "source": [
    "dataset.columns"
   ]
  },
  {
   "cell_type": "markdown",
   "metadata": {},
   "source": [
    "<h3> Treating column names </h3> <br>\n",
    "**Some columns like 'Job code', 'Highest Degree' have spaces in between and \"Designation ' has a space in the end. These initial data handling errors should be corrected to avoid problems while referring to columns and allow easy access. Therefore we need to remove unnecessary spaces from columns names<br> We can also use underscores, I am choosing to replace them with an empty string**"
   ]
  },
  {
   "cell_type": "code",
   "execution_count": 5,
   "metadata": {
    "collapsed": true
   },
   "outputs": [],
   "source": [
    "dataset.columns = dataset.columns.str.replace('\\s+', '')  # in case there are multiple white spaces"
   ]
  },
  {
   "cell_type": "code",
   "execution_count": 6,
   "metadata": {},
   "outputs": [
    {
     "data": {
      "text/plain": [
       "Index(['Jobcode', 'Company', 'Experience', 'Distance', 'HighestDegree',\n",
       "       'MajorSubject', 'Designation', 'Domain', 'Salary'],\n",
       "      dtype='object')"
      ]
     },
     "execution_count": 6,
     "metadata": {},
     "output_type": "execute_result"
    }
   ],
   "source": [
    "dataset.columns"
   ]
  },
  {
   "cell_type": "code",
   "execution_count": 7,
   "metadata": {},
   "outputs": [
    {
     "data": {
      "text/plain": [
       "(1000000, 9)"
      ]
     },
     "execution_count": 7,
     "metadata": {},
     "output_type": "execute_result"
    }
   ],
   "source": [
    "dataset.shape"
   ]
  },
  {
   "cell_type": "markdown",
   "metadata": {},
   "source": [
    "**We have 6 string (object) columns and 3 continuous int columns<br>Also we do not have anu missing values**"
   ]
  },
  {
   "cell_type": "code",
   "execution_count": 8,
   "metadata": {},
   "outputs": [
    {
     "name": "stdout",
     "output_type": "stream",
     "text": [
      "<class 'pandas.core.frame.DataFrame'>\n",
      "RangeIndex: 1000000 entries, 0 to 999999\n",
      "Data columns (total 9 columns):\n",
      "Jobcode          1000000 non-null object\n",
      "Company          1000000 non-null object\n",
      "Experience       1000000 non-null int64\n",
      "Distance         1000000 non-null int64\n",
      "HighestDegree    1000000 non-null object\n",
      "MajorSubject     1000000 non-null object\n",
      "Designation      1000000 non-null object\n",
      "Domain           1000000 non-null object\n",
      "Salary           1000000 non-null int64\n",
      "dtypes: int64(3), object(6)\n",
      "memory usage: 68.7+ MB\n"
     ]
    }
   ],
   "source": [
    "dataset.info()"
   ]
  },
  {
   "cell_type": "markdown",
   "metadata": {},
   "source": [
    "<h3> Instantiating the functions class</h3><br>\n",
    "**It contains pre analysis function - we will use methods defined in the class**"
   ]
  },
  {
   "cell_type": "code",
   "execution_count": 9,
   "metadata": {
    "collapsed": true
   },
   "outputs": [],
   "source": [
    "f = functions()"
   ]
  },
  {
   "cell_type": "markdown",
   "metadata": {},
   "source": [
    "<h3>Further evaluating string columns - Checking the unique values in each"
   ]
  },
  {
   "cell_type": "code",
   "execution_count": 10,
   "metadata": {},
   "outputs": [
    {
     "name": "stdout",
     "output_type": "stream",
     "text": [
      "Company has 63 unique values\n",
      "HighestDegree has 5 unique values\n",
      "MajorSubject has 9 unique values\n",
      "Designation has 8 unique values\n"
     ]
    }
   ],
   "source": [
    "f.string_col_count('Company', dataset)\n",
    "f.string_col_count('HighestDegree', dataset)\n",
    "f.string_col_count('MajorSubject', dataset)\n",
    "f.string_col_count('Designation', dataset)"
   ]
  },
  {
   "cell_type": "markdown",
   "metadata": {},
   "source": [
    "<h3> Checking the distribution of each column </h3> <br>\n",
    "* **Highest degree is almost uniformly distributed, None is value which can be dealt with in different ways but we will keep it as is for now**<br>\n",
    "* **Major Subject is almost perfectly uniformly distributed except for None which is extremely high but we would keep it for now**\n",
    "* **Designation is almost perfectly uniformly distributed**\n",
    "* **Domain is almost perfectly uniformly distributed**"
   ]
  },
  {
   "cell_type": "code",
   "execution_count": 11,
   "metadata": {},
   "outputs": [
    {
     "data": {
      "image/png": "[encoded data removed]",
      "text/plain": [
       "<matplotlib.figure.Figure at 0x27ccc6ecc88>"
      ]
     },
     "metadata": {},
     "output_type": "display_data"
    },
    {
     "data": {
      "image/png": "[encoded data removed]",
      "text/plain": [
       "<matplotlib.figure.Figure at 0x27ccc6eccc0>"
      ]
     },
     "metadata": {},
     "output_type": "display_data"
    },
    {
     "data": {
      "image/png": "[encoded data removed]",
      "text/plain": [
       "<matplotlib.figure.Figure at 0x27cc2b5ccc0>"
      ]
     },
     "metadata": {},
     "output_type": "display_data"
    },
    {
     "data": {
      "image/png": "[encoded data removed]",
      "text/plain": [
       "<matplotlib.figure.Figure at 0x27cc2b5cb38>"
      ]
     },
     "metadata": {},
     "output_type": "display_data"
    }
   ],
   "source": [
    "f.check_distribution('HighestDegree', dataset)\n",
    "f.check_distribution('MajorSubject', dataset)\n",
    "f.check_distribution('Designation', dataset)\n",
    "f.check_distribution('Domain', dataset)"
   ]
  },
  {
   "cell_type": "markdown",
   "metadata": {},
   "source": [
    "<h3>Boxplot Analysis </h3><br>\n",
    "\n",
    "* **Salaries are highest in Engineering and Computer Science and are lowest in the field of literature**\n",
    "* **Doctoral holders earn the highest followed by masters**\n",
    "* **Top earning designations are chief executives, finance and technology officers followed by the vice presidents**\n",
    "* **Finance and oil are the highest earning domains followed by healthcare with education being the lowest**\n"
   ]
  },
  {
   "cell_type": "code",
   "execution_count": 12,
   "metadata": {},
   "outputs": [
    {
     "data": {
      "image/png": "[encoded data removed]",
      "text/plain": [
       "<matplotlib.figure.Figure at 0x27cc32cd630>"
      ]
     },
     "metadata": {},
     "output_type": "display_data"
    },
    {
     "data": {
      "image/png": "[encoded data removed]",
      "text/plain": [
       "<matplotlib.figure.Figure at 0x27cc32cdf28>"
      ]
     },
     "metadata": {},
     "output_type": "display_data"
    },
    {
     "data": {
      "image/png": "[encoded data removed]",
      "text/plain": [
       "<matplotlib.figure.Figure at 0x27cc44d0eb8>"
      ]
     },
     "metadata": {},
     "output_type": "display_data"
    },
    {
     "data": {
      "image/png": "[encoded data removed]",
      "text/plain": [
       "<matplotlib.figure.Figure at 0x27cc44d0cf8>"
      ]
     },
     "metadata": {},
     "output_type": "display_data"
    }
   ],
   "source": [
    "f.check_boxplot(\"MajorSubject\", \"Salary\", dataset)\n",
    "f.check_boxplot(\"HighestDegree\", \"Salary\", dataset)\n",
    "f.check_boxplot(\"Designation\", \"Salary\", dataset)\n",
    "f.check_boxplot(\"Domain\", \"Salary\", dataset)"
   ]
  },
  {
   "cell_type": "markdown",
   "metadata": {},
   "source": [
    "<h3>Exploring continuous variables </h3> <br>\n",
    "* **Experience has a 38% positive correlation with Salary**\n",
    "* **Distance has a negative 30% correlation with salary**"
   ]
  },
  {
   "cell_type": "code",
   "execution_count": 13,
   "metadata": {},
   "outputs": [
    {
     "data": {
      "image/png": "[encoded data removed]",
      "text/plain": [
       "<matplotlib.figure.Figure at 0x27ccc6ecb00>"
      ]
     },
     "metadata": {},
     "output_type": "display_data"
    }
   ],
   "source": [
    "continuous_only = dataset[['Experience', 'Distance', 'Salary']]\n",
    "f.create_corrmap(continuous_only)"
   ]
  },
  {
   "cell_type": "code",
   "execution_count": 14,
   "metadata": {},
   "outputs": [
    {
     "data": {
      "text/html": [
       "<div>\n",
       "<style>\n",
       "    .dataframe thead tr:only-child th {\n",
       "        text-align: right;\n",
       "    }\n",
       "\n",
       "    .dataframe thead th {\n",
       "        text-align: left;\n",
       "    }\n",
       "\n",
       "    .dataframe tbody tr th {\n",
       "        vertical-align: top;\n",
       "    }\n",
       "</style>\n",
       "<table border=\"1\" class=\"dataframe\">\n",
       "  <thead>\n",
       "    <tr style=\"text-align: right;\">\n",
       "      <th></th>\n",
       "      <th>Experience</th>\n",
       "      <th>Distance</th>\n",
       "      <th>Salary</th>\n",
       "    </tr>\n",
       "  </thead>\n",
       "  <tbody>\n",
       "    <tr>\n",
       "      <th>count</th>\n",
       "      <td>1000000.000000</td>\n",
       "      <td>1000000.000000</td>\n",
       "      <td>1000000.000000</td>\n",
       "    </tr>\n",
       "    <tr>\n",
       "      <th>mean</th>\n",
       "      <td>11.992386</td>\n",
       "      <td>49.529260</td>\n",
       "      <td>116.061818</td>\n",
       "    </tr>\n",
       "    <tr>\n",
       "      <th>std</th>\n",
       "      <td>7.212391</td>\n",
       "      <td>28.877733</td>\n",
       "      <td>38.717936</td>\n",
       "    </tr>\n",
       "    <tr>\n",
       "      <th>min</th>\n",
       "      <td>0.000000</td>\n",
       "      <td>0.000000</td>\n",
       "      <td>0.000000</td>\n",
       "    </tr>\n",
       "    <tr>\n",
       "      <th>25%</th>\n",
       "      <td>6.000000</td>\n",
       "      <td>25.000000</td>\n",
       "      <td>88.000000</td>\n",
       "    </tr>\n",
       "    <tr>\n",
       "      <th>50%</th>\n",
       "      <td>12.000000</td>\n",
       "      <td>50.000000</td>\n",
       "      <td>114.000000</td>\n",
       "    </tr>\n",
       "    <tr>\n",
       "      <th>75%</th>\n",
       "      <td>18.000000</td>\n",
       "      <td>75.000000</td>\n",
       "      <td>141.000000</td>\n",
       "    </tr>\n",
       "    <tr>\n",
       "      <th>max</th>\n",
       "      <td>24.000000</td>\n",
       "      <td>99.000000</td>\n",
       "      <td>301.000000</td>\n",
       "    </tr>\n",
       "  </tbody>\n",
       "</table>\n",
       "</div>"
      ],
      "text/plain": [
       "           Experience        Distance          Salary\n",
       "count  1000000.000000  1000000.000000  1000000.000000\n",
       "mean        11.992386       49.529260      116.061818\n",
       "std          7.212391       28.877733       38.717936\n",
       "min          0.000000        0.000000        0.000000\n",
       "25%          6.000000       25.000000       88.000000\n",
       "50%         12.000000       50.000000      114.000000\n",
       "75%         18.000000       75.000000      141.000000\n",
       "max         24.000000       99.000000      301.000000"
      ]
     },
     "execution_count": 14,
     "metadata": {},
     "output_type": "execute_result"
    }
   ],
   "source": [
    "dataset.describe()"
   ]
  },
  {
   "cell_type": "code",
   "execution_count": 15,
   "metadata": {},
   "outputs": [
    {
     "data": {
      "image/png": "[encoded data removed]",
      "text/plain": [
       "<matplotlib.figure.Figure at 0x27ccc773908>"
      ]
     },
     "metadata": {},
     "output_type": "display_data"
    }
   ],
   "source": [
    "sns.set_style(\"whitegrid\")\n",
    "ax = sns.boxplot(x=dataset.Experience, palette=\"Set3\", linewidth=2.5)"
   ]
  },
  {
   "cell_type": "code",
   "execution_count": 16,
   "metadata": {},
   "outputs": [
    {
     "data": {
      "image/png": "[encoded data removed]",
      "text/plain": [
       "<matplotlib.figure.Figure at 0x27cc4a76080>"
      ]
     },
     "metadata": {},
     "output_type": "display_data"
    }
   ],
   "source": [
    "sns.set_style(\"whitegrid\")\n",
    "ax = sns.boxplot(x=dataset.Distance, palette=\"Set3\", linewidth=2.5)"
   ]
  },
  {
   "cell_type": "markdown",
   "metadata": {},
   "source": [
    "<h3> Instantiating the data preparation class </h3><br>\n",
    "** This class has methods that help clean and treat the data **\n"
   ]
  },
  {
   "cell_type": "code",
   "execution_count": 17,
   "metadata": {},
   "outputs": [
    {
     "data": {
      "text/plain": [
       "['__class__',\n",
       " '__delattr__',\n",
       " '__dict__',\n",
       " '__dir__',\n",
       " '__doc__',\n",
       " '__eq__',\n",
       " '__format__',\n",
       " '__ge__',\n",
       " '__getattribute__',\n",
       " '__gt__',\n",
       " '__hash__',\n",
       " '__init__',\n",
       " '__init_subclass__',\n",
       " '__le__',\n",
       " '__lt__',\n",
       " '__module__',\n",
       " '__ne__',\n",
       " '__new__',\n",
       " '__reduce__',\n",
       " '__reduce_ex__',\n",
       " '__repr__',\n",
       " '__setattr__',\n",
       " '__sizeof__',\n",
       " '__str__',\n",
       " '__subclasshook__',\n",
       " '__weakref__',\n",
       " 'create_dummies',\n",
       " 'drop_high_levels',\n",
       " 'drop_nan_col',\n",
       " 'drop_zero_car_col',\n",
       " 'drop_zero_var_col',\n",
       " 'encode_target',\n",
       " 'replace_missing']"
      ]
     },
     "execution_count": 17,
     "metadata": {},
     "output_type": "execute_result"
    }
   ],
   "source": [
    "dp = data_preparation()\n",
    "dir(dp)"
   ]
  },
  {
   "cell_type": "markdown",
   "metadata": {},
   "source": [
    "<h2> The algorithm we would be using for this is  - XGBOOST </h2>"
   ]
  },
  {
   "cell_type": "markdown",
   "metadata": {},
   "source": [
    "<h3>What is XGBOOST?</h3><br>\n",
    "* **XGBoost is short for “Extreme Gradient Boosting”, where the term “Gradient Boosting”. XGBoost is used for supervised learning problems, where we use the training data to predict a target variable**\n",
    "* **It is the most powerful implementation of gradient boost and one of the most popular and powerful algorithm**\n",
    "* **Boosting is not a ML algo by itself rather it is a concept that can be applied to a set of ML algorithms**\n",
    "* **Boosting converts multiple weak learners into a strong learner (An algo that can be tuned to achieve good performance). A weak leaner is an ML algorithm that is slightly better than chance**"
   ]
  },
  {
   "cell_type": "markdown",
   "metadata": {},
   "source": [
    "<h3>What are its advantages?</h3><br>\n",
    "* **XGboost is popular because of its speed and performance, core algorithm is parallelizable**"
   ]
  },
  {
   "cell_type": "markdown",
   "metadata": {},
   "source": [
    "<h3>How is boosting accomplished</h3><br>\n",
    "** Boosting converts multiple weak learners into a strong learner (An algo that can be tuned to achieve good performance). A weak leaner is an ML algorithm that is slightly better than chance.** <br>\n",
    "* **Iteratively learning a set of weak models on subsets of data**\n",
    "* **Weighting each weak prediction according to each weak learner’s performance**\n",
    "* **Combine the weighted predictions to obtain a single weighted prediction**\n",
    "\n",
    "**NOTE - XGBoost converts the data into a dmatrix (its own optimized data structure) datatype for better performance, this is done on the fly, however, if we do cross validation we need to explicitly convert the data into d matrix**\n"
   ]
  },
  {
   "cell_type": "markdown",
   "metadata": {},
   "source": [
    "<h3>Feature Engineering\n"
   ]
  },
  {
   "cell_type": "markdown",
   "metadata": {},
   "source": [
    "<h3>drop_nan_col()</h3><br>**This method allows us to choose and threshold and remove all columns that missing values more than that threshold**"
   ]
  },
  {
   "cell_type": "code",
   "execution_count": 18,
   "metadata": {},
   "outputs": [
    {
     "name": "stdout",
     "output_type": "stream",
     "text": [
      "Jobcode does not have more than 90.0  % missing values\n",
      "Company does not have more than 90.0  % missing values\n",
      "Experience does not have more than 90.0  % missing values\n",
      "Distance does not have more than 90.0  % missing values\n",
      "HighestDegree does not have more than 90.0  % missing values\n",
      "MajorSubject does not have more than 90.0  % missing values\n",
      "Designation does not have more than 90.0  % missing values\n",
      "Domain does not have more than 90.0  % missing values\n",
      "Salary does not have more than 90.0  % missing values\n"
     ]
    },
    {
     "data": {
      "text/html": [
       "<div>\n",
       "<style>\n",
       "    .dataframe thead tr:only-child th {\n",
       "        text-align: right;\n",
       "    }\n",
       "\n",
       "    .dataframe thead th {\n",
       "        text-align: left;\n",
       "    }\n",
       "\n",
       "    .dataframe tbody tr th {\n",
       "        vertical-align: top;\n",
       "    }\n",
       "</style>\n",
       "<table border=\"1\" class=\"dataframe\">\n",
       "  <thead>\n",
       "    <tr style=\"text-align: right;\">\n",
       "      <th></th>\n",
       "      <th>Jobcode</th>\n",
       "      <th>Company</th>\n",
       "      <th>Experience</th>\n",
       "      <th>Distance</th>\n",
       "      <th>HighestDegree</th>\n",
       "      <th>MajorSubject</th>\n",
       "      <th>Designation</th>\n",
       "      <th>Domain</th>\n",
       "      <th>Salary</th>\n",
       "    </tr>\n",
       "  </thead>\n",
       "  <tbody>\n",
       "    <tr>\n",
       "      <th>0</th>\n",
       "      <td>JOB1362684407687</td>\n",
       "      <td>C37</td>\n",
       "      <td>10</td>\n",
       "      <td>83</td>\n",
       "      <td>MASTERS</td>\n",
       "      <td>MATH</td>\n",
       "      <td>CFO</td>\n",
       "      <td>HEALTH</td>\n",
       "      <td>130</td>\n",
       "    </tr>\n",
       "    <tr>\n",
       "      <th>1</th>\n",
       "      <td>JOB1362684407688</td>\n",
       "      <td>C19</td>\n",
       "      <td>3</td>\n",
       "      <td>73</td>\n",
       "      <td>HIGH_SCHOOL</td>\n",
       "      <td>NONE</td>\n",
       "      <td>CEO</td>\n",
       "      <td>WEB</td>\n",
       "      <td>101</td>\n",
       "    </tr>\n",
       "    <tr>\n",
       "      <th>2</th>\n",
       "      <td>JOB1362684407689</td>\n",
       "      <td>C52</td>\n",
       "      <td>10</td>\n",
       "      <td>38</td>\n",
       "      <td>DOCTORAL</td>\n",
       "      <td>PHYSICS</td>\n",
       "      <td>VICE_PRESIDENT</td>\n",
       "      <td>HEALTH</td>\n",
       "      <td>137</td>\n",
       "    </tr>\n",
       "    <tr>\n",
       "      <th>3</th>\n",
       "      <td>JOB1362684407690</td>\n",
       "      <td>C38</td>\n",
       "      <td>8</td>\n",
       "      <td>17</td>\n",
       "      <td>DOCTORAL</td>\n",
       "      <td>CHEMISTRY</td>\n",
       "      <td>MANAGER</td>\n",
       "      <td>AUTO</td>\n",
       "      <td>142</td>\n",
       "    </tr>\n",
       "    <tr>\n",
       "      <th>4</th>\n",
       "      <td>JOB1362684407691</td>\n",
       "      <td>C7</td>\n",
       "      <td>8</td>\n",
       "      <td>16</td>\n",
       "      <td>BACHELORS</td>\n",
       "      <td>PHYSICS</td>\n",
       "      <td>VICE_PRESIDENT</td>\n",
       "      <td>FINANCE</td>\n",
       "      <td>163</td>\n",
       "    </tr>\n",
       "  </tbody>\n",
       "</table>\n",
       "</div>"
      ],
      "text/plain": [
       "            Jobcode Company  Experience  Distance HighestDegree MajorSubject  \\\n",
       "0  JOB1362684407687     C37          10        83       MASTERS         MATH   \n",
       "1  JOB1362684407688     C19           3        73   HIGH_SCHOOL         NONE   \n",
       "2  JOB1362684407689     C52          10        38      DOCTORAL      PHYSICS   \n",
       "3  JOB1362684407690     C38           8        17      DOCTORAL    CHEMISTRY   \n",
       "4  JOB1362684407691      C7           8        16     BACHELORS      PHYSICS   \n",
       "\n",
       "      Designation   Domain  Salary  \n",
       "0             CFO   HEALTH     130  \n",
       "1             CEO      WEB     101  \n",
       "2  VICE_PRESIDENT   HEALTH     137  \n",
       "3         MANAGER     AUTO     142  \n",
       "4  VICE_PRESIDENT  FINANCE     163  "
      ]
     },
     "execution_count": 18,
     "metadata": {},
     "output_type": "execute_result"
    }
   ],
   "source": [
    "dp.drop_nan_col(dataset, 0.9)"
   ]
  },
  {
   "cell_type": "markdown",
   "metadata": {},
   "source": [
    "<h3>drop_zero_var_col()</h3><br>\n",
    "**This method removes all columns that have zero variance**"
   ]
  },
  {
   "cell_type": "code",
   "execution_count": 19,
   "metadata": {},
   "outputs": [
    {
     "name": "stdout",
     "output_type": "stream",
     "text": [
      "Experience does not have 0 variance - KEEP IT\n",
      "Distance does not have 0 variance - KEEP IT\n",
      "Salary does not have 0 variance - KEEP IT\n"
     ]
    },
    {
     "data": {
      "text/html": [
       "<div>\n",
       "<style>\n",
       "    .dataframe thead tr:only-child th {\n",
       "        text-align: right;\n",
       "    }\n",
       "\n",
       "    .dataframe thead th {\n",
       "        text-align: left;\n",
       "    }\n",
       "\n",
       "    .dataframe tbody tr th {\n",
       "        vertical-align: top;\n",
       "    }\n",
       "</style>\n",
       "<table border=\"1\" class=\"dataframe\">\n",
       "  <thead>\n",
       "    <tr style=\"text-align: right;\">\n",
       "      <th></th>\n",
       "      <th>Jobcode</th>\n",
       "      <th>Company</th>\n",
       "      <th>Experience</th>\n",
       "      <th>Distance</th>\n",
       "      <th>HighestDegree</th>\n",
       "      <th>MajorSubject</th>\n",
       "      <th>Designation</th>\n",
       "      <th>Domain</th>\n",
       "      <th>Salary</th>\n",
       "    </tr>\n",
       "  </thead>\n",
       "  <tbody>\n",
       "    <tr>\n",
       "      <th>0</th>\n",
       "      <td>JOB1362684407687</td>\n",
       "      <td>C37</td>\n",
       "      <td>10</td>\n",
       "      <td>83</td>\n",
       "      <td>MASTERS</td>\n",
       "      <td>MATH</td>\n",
       "      <td>CFO</td>\n",
       "      <td>HEALTH</td>\n",
       "      <td>130</td>\n",
       "    </tr>\n",
       "    <tr>\n",
       "      <th>1</th>\n",
       "      <td>JOB1362684407688</td>\n",
       "      <td>C19</td>\n",
       "      <td>3</td>\n",
       "      <td>73</td>\n",
       "      <td>HIGH_SCHOOL</td>\n",
       "      <td>NONE</td>\n",
       "      <td>CEO</td>\n",
       "      <td>WEB</td>\n",
       "      <td>101</td>\n",
       "    </tr>\n",
       "    <tr>\n",
       "      <th>2</th>\n",
       "      <td>JOB1362684407689</td>\n",
       "      <td>C52</td>\n",
       "      <td>10</td>\n",
       "      <td>38</td>\n",
       "      <td>DOCTORAL</td>\n",
       "      <td>PHYSICS</td>\n",
       "      <td>VICE_PRESIDENT</td>\n",
       "      <td>HEALTH</td>\n",
       "      <td>137</td>\n",
       "    </tr>\n",
       "    <tr>\n",
       "      <th>3</th>\n",
       "      <td>JOB1362684407690</td>\n",
       "      <td>C38</td>\n",
       "      <td>8</td>\n",
       "      <td>17</td>\n",
       "      <td>DOCTORAL</td>\n",
       "      <td>CHEMISTRY</td>\n",
       "      <td>MANAGER</td>\n",
       "      <td>AUTO</td>\n",
       "      <td>142</td>\n",
       "    </tr>\n",
       "    <tr>\n",
       "      <th>4</th>\n",
       "      <td>JOB1362684407691</td>\n",
       "      <td>C7</td>\n",
       "      <td>8</td>\n",
       "      <td>16</td>\n",
       "      <td>BACHELORS</td>\n",
       "      <td>PHYSICS</td>\n",
       "      <td>VICE_PRESIDENT</td>\n",
       "      <td>FINANCE</td>\n",
       "      <td>163</td>\n",
       "    </tr>\n",
       "  </tbody>\n",
       "</table>\n",
       "</div>"
      ],
      "text/plain": [
       "            Jobcode Company  Experience  Distance HighestDegree MajorSubject  \\\n",
       "0  JOB1362684407687     C37          10        83       MASTERS         MATH   \n",
       "1  JOB1362684407688     C19           3        73   HIGH_SCHOOL         NONE   \n",
       "2  JOB1362684407689     C52          10        38      DOCTORAL      PHYSICS   \n",
       "3  JOB1362684407690     C38           8        17      DOCTORAL    CHEMISTRY   \n",
       "4  JOB1362684407691      C7           8        16     BACHELORS      PHYSICS   \n",
       "\n",
       "      Designation   Domain  Salary  \n",
       "0             CFO   HEALTH     130  \n",
       "1             CEO      WEB     101  \n",
       "2  VICE_PRESIDENT   HEALTH     137  \n",
       "3         MANAGER     AUTO     142  \n",
       "4  VICE_PRESIDENT  FINANCE     163  "
      ]
     },
     "execution_count": 19,
     "metadata": {},
     "output_type": "execute_result"
    }
   ],
   "source": [
    "dp.drop_zero_var_col(dataset)"
   ]
  },
  {
   "cell_type": "markdown",
   "metadata": {},
   "source": [
    "<h3>drop_high_levels()</h3><br>\n",
    "**This method allows us to choose a threshold and removes columns that have more than the threshold unique values in the column**"
   ]
  },
  {
   "cell_type": "code",
   "execution_count": 20,
   "metadata": {},
   "outputs": [
    {
     "name": "stdout",
     "output_type": "stream",
     "text": [
      "Column Jobcode has levels more than 100 levels hence it has been removed\n"
     ]
    },
    {
     "data": {
      "text/html": [
       "<div>\n",
       "<style>\n",
       "    .dataframe thead tr:only-child th {\n",
       "        text-align: right;\n",
       "    }\n",
       "\n",
       "    .dataframe thead th {\n",
       "        text-align: left;\n",
       "    }\n",
       "\n",
       "    .dataframe tbody tr th {\n",
       "        vertical-align: top;\n",
       "    }\n",
       "</style>\n",
       "<table border=\"1\" class=\"dataframe\">\n",
       "  <thead>\n",
       "    <tr style=\"text-align: right;\">\n",
       "      <th></th>\n",
       "      <th>Company</th>\n",
       "      <th>Experience</th>\n",
       "      <th>Distance</th>\n",
       "      <th>HighestDegree</th>\n",
       "      <th>MajorSubject</th>\n",
       "      <th>Designation</th>\n",
       "      <th>Domain</th>\n",
       "      <th>Salary</th>\n",
       "    </tr>\n",
       "  </thead>\n",
       "  <tbody>\n",
       "    <tr>\n",
       "      <th>0</th>\n",
       "      <td>C37</td>\n",
       "      <td>10</td>\n",
       "      <td>83</td>\n",
       "      <td>MASTERS</td>\n",
       "      <td>MATH</td>\n",
       "      <td>CFO</td>\n",
       "      <td>HEALTH</td>\n",
       "      <td>130</td>\n",
       "    </tr>\n",
       "    <tr>\n",
       "      <th>1</th>\n",
       "      <td>C19</td>\n",
       "      <td>3</td>\n",
       "      <td>73</td>\n",
       "      <td>HIGH_SCHOOL</td>\n",
       "      <td>NONE</td>\n",
       "      <td>CEO</td>\n",
       "      <td>WEB</td>\n",
       "      <td>101</td>\n",
       "    </tr>\n",
       "    <tr>\n",
       "      <th>2</th>\n",
       "      <td>C52</td>\n",
       "      <td>10</td>\n",
       "      <td>38</td>\n",
       "      <td>DOCTORAL</td>\n",
       "      <td>PHYSICS</td>\n",
       "      <td>VICE_PRESIDENT</td>\n",
       "      <td>HEALTH</td>\n",
       "      <td>137</td>\n",
       "    </tr>\n",
       "    <tr>\n",
       "      <th>3</th>\n",
       "      <td>C38</td>\n",
       "      <td>8</td>\n",
       "      <td>17</td>\n",
       "      <td>DOCTORAL</td>\n",
       "      <td>CHEMISTRY</td>\n",
       "      <td>MANAGER</td>\n",
       "      <td>AUTO</td>\n",
       "      <td>142</td>\n",
       "    </tr>\n",
       "    <tr>\n",
       "      <th>4</th>\n",
       "      <td>C7</td>\n",
       "      <td>8</td>\n",
       "      <td>16</td>\n",
       "      <td>BACHELORS</td>\n",
       "      <td>PHYSICS</td>\n",
       "      <td>VICE_PRESIDENT</td>\n",
       "      <td>FINANCE</td>\n",
       "      <td>163</td>\n",
       "    </tr>\n",
       "  </tbody>\n",
       "</table>\n",
       "</div>"
      ],
      "text/plain": [
       "  Company  Experience  Distance HighestDegree MajorSubject     Designation  \\\n",
       "0     C37          10        83       MASTERS         MATH             CFO   \n",
       "1     C19           3        73   HIGH_SCHOOL         NONE             CEO   \n",
       "2     C52          10        38      DOCTORAL      PHYSICS  VICE_PRESIDENT   \n",
       "3     C38           8        17      DOCTORAL    CHEMISTRY         MANAGER   \n",
       "4      C7           8        16     BACHELORS      PHYSICS  VICE_PRESIDENT   \n",
       "\n",
       "    Domain  Salary  \n",
       "0   HEALTH     130  \n",
       "1      WEB     101  \n",
       "2   HEALTH     137  \n",
       "3     AUTO     142  \n",
       "4  FINANCE     163  "
      ]
     },
     "execution_count": 20,
     "metadata": {},
     "output_type": "execute_result"
    }
   ],
   "source": [
    "dp.drop_high_levels(dataset, 100)"
   ]
  },
  {
   "cell_type": "markdown",
   "metadata": {},
   "source": [
    "<h3>How to treat numerical and categorical data?</h3><br>\n",
    "**Xgboost manages only numeric vectors, hence we need to convert categorical to numerical. We will do that using the**\n",
    "**create_dummies() - This method creates dummies with an option to avoid dummy variable trap**"
   ]
  },
  {
   "cell_type": "code",
   "execution_count": 21,
   "metadata": {
    "collapsed": true
   },
   "outputs": [],
   "source": [
    "dataset = dp.create_dummies(dataset, 'Salary', False)"
   ]
  },
  {
   "cell_type": "markdown",
   "metadata": {},
   "source": [
    "<h3>We have a cleaned dataframe, let explore its attributes</h3>"
   ]
  },
  {
   "cell_type": "code",
   "execution_count": 22,
   "metadata": {},
   "outputs": [
    {
     "data": {
      "text/plain": [
       "(1000000, 95)"
      ]
     },
     "execution_count": 22,
     "metadata": {},
     "output_type": "execute_result"
    }
   ],
   "source": [
    "dataset.shape"
   ]
  },
  {
   "cell_type": "code",
   "execution_count": 23,
   "metadata": {},
   "outputs": [
    {
     "data": {
      "text/html": [
       "<div>\n",
       "<style>\n",
       "    .dataframe thead tr:only-child th {\n",
       "        text-align: right;\n",
       "    }\n",
       "\n",
       "    .dataframe thead th {\n",
       "        text-align: left;\n",
       "    }\n",
       "\n",
       "    .dataframe tbody tr th {\n",
       "        vertical-align: top;\n",
       "    }\n",
       "</style>\n",
       "<table border=\"1\" class=\"dataframe\">\n",
       "  <thead>\n",
       "    <tr style=\"text-align: right;\">\n",
       "      <th></th>\n",
       "      <th>Experience</th>\n",
       "      <th>Distance</th>\n",
       "      <th>Company_C0</th>\n",
       "      <th>Company_C1</th>\n",
       "      <th>Company_C10</th>\n",
       "      <th>Company_C11</th>\n",
       "      <th>Company_C12</th>\n",
       "      <th>Company_C13</th>\n",
       "      <th>Company_C14</th>\n",
       "      <th>Company_C15</th>\n",
       "      <th>...</th>\n",
       "      <th>Designation_SENIOR</th>\n",
       "      <th>Designation_VICE_PRESIDENT</th>\n",
       "      <th>Domain_AUTO</th>\n",
       "      <th>Domain_EDUCATION</th>\n",
       "      <th>Domain_FINANCE</th>\n",
       "      <th>Domain_HEALTH</th>\n",
       "      <th>Domain_OIL</th>\n",
       "      <th>Domain_SERVICE</th>\n",
       "      <th>Domain_WEB</th>\n",
       "      <th>Salary</th>\n",
       "    </tr>\n",
       "  </thead>\n",
       "  <tbody>\n",
       "    <tr>\n",
       "      <th>0</th>\n",
       "      <td>10</td>\n",
       "      <td>83</td>\n",
       "      <td>0</td>\n",
       "      <td>0</td>\n",
       "      <td>0</td>\n",
       "      <td>0</td>\n",
       "      <td>0</td>\n",
       "      <td>0</td>\n",
       "      <td>0</td>\n",
       "      <td>0</td>\n",
       "      <td>...</td>\n",
       "      <td>0</td>\n",
       "      <td>0</td>\n",
       "      <td>0</td>\n",
       "      <td>0</td>\n",
       "      <td>0</td>\n",
       "      <td>1</td>\n",
       "      <td>0</td>\n",
       "      <td>0</td>\n",
       "      <td>0</td>\n",
       "      <td>130</td>\n",
       "    </tr>\n",
       "    <tr>\n",
       "      <th>1</th>\n",
       "      <td>3</td>\n",
       "      <td>73</td>\n",
       "      <td>0</td>\n",
       "      <td>0</td>\n",
       "      <td>0</td>\n",
       "      <td>0</td>\n",
       "      <td>0</td>\n",
       "      <td>0</td>\n",
       "      <td>0</td>\n",
       "      <td>0</td>\n",
       "      <td>...</td>\n",
       "      <td>0</td>\n",
       "      <td>0</td>\n",
       "      <td>0</td>\n",
       "      <td>0</td>\n",
       "      <td>0</td>\n",
       "      <td>0</td>\n",
       "      <td>0</td>\n",
       "      <td>0</td>\n",
       "      <td>1</td>\n",
       "      <td>101</td>\n",
       "    </tr>\n",
       "    <tr>\n",
       "      <th>2</th>\n",
       "      <td>10</td>\n",
       "      <td>38</td>\n",
       "      <td>0</td>\n",
       "      <td>0</td>\n",
       "      <td>0</td>\n",
       "      <td>0</td>\n",
       "      <td>0</td>\n",
       "      <td>0</td>\n",
       "      <td>0</td>\n",
       "      <td>0</td>\n",
       "      <td>...</td>\n",
       "      <td>0</td>\n",
       "      <td>1</td>\n",
       "      <td>0</td>\n",
       "      <td>0</td>\n",
       "      <td>0</td>\n",
       "      <td>1</td>\n",
       "      <td>0</td>\n",
       "      <td>0</td>\n",
       "      <td>0</td>\n",
       "      <td>137</td>\n",
       "    </tr>\n",
       "    <tr>\n",
       "      <th>3</th>\n",
       "      <td>8</td>\n",
       "      <td>17</td>\n",
       "      <td>0</td>\n",
       "      <td>0</td>\n",
       "      <td>0</td>\n",
       "      <td>0</td>\n",
       "      <td>0</td>\n",
       "      <td>0</td>\n",
       "      <td>0</td>\n",
       "      <td>0</td>\n",
       "      <td>...</td>\n",
       "      <td>0</td>\n",
       "      <td>0</td>\n",
       "      <td>1</td>\n",
       "      <td>0</td>\n",
       "      <td>0</td>\n",
       "      <td>0</td>\n",
       "      <td>0</td>\n",
       "      <td>0</td>\n",
       "      <td>0</td>\n",
       "      <td>142</td>\n",
       "    </tr>\n",
       "    <tr>\n",
       "      <th>4</th>\n",
       "      <td>8</td>\n",
       "      <td>16</td>\n",
       "      <td>0</td>\n",
       "      <td>0</td>\n",
       "      <td>0</td>\n",
       "      <td>0</td>\n",
       "      <td>0</td>\n",
       "      <td>0</td>\n",
       "      <td>0</td>\n",
       "      <td>0</td>\n",
       "      <td>...</td>\n",
       "      <td>0</td>\n",
       "      <td>1</td>\n",
       "      <td>0</td>\n",
       "      <td>0</td>\n",
       "      <td>1</td>\n",
       "      <td>0</td>\n",
       "      <td>0</td>\n",
       "      <td>0</td>\n",
       "      <td>0</td>\n",
       "      <td>163</td>\n",
       "    </tr>\n",
       "  </tbody>\n",
       "</table>\n",
       "<p>5 rows × 95 columns</p>\n",
       "</div>"
      ],
      "text/plain": [
       "   Experience  Distance  Company_C0  Company_C1  Company_C10  Company_C11  \\\n",
       "0          10        83           0           0            0            0   \n",
       "1           3        73           0           0            0            0   \n",
       "2          10        38           0           0            0            0   \n",
       "3           8        17           0           0            0            0   \n",
       "4           8        16           0           0            0            0   \n",
       "\n",
       "   Company_C12  Company_C13  Company_C14  Company_C15   ...    \\\n",
       "0            0            0            0            0   ...     \n",
       "1            0            0            0            0   ...     \n",
       "2            0            0            0            0   ...     \n",
       "3            0            0            0            0   ...     \n",
       "4            0            0            0            0   ...     \n",
       "\n",
       "   Designation_SENIOR  Designation_VICE_PRESIDENT  Domain_AUTO  \\\n",
       "0                   0                           0            0   \n",
       "1                   0                           0            0   \n",
       "2                   0                           1            0   \n",
       "3                   0                           0            1   \n",
       "4                   0                           1            0   \n",
       "\n",
       "   Domain_EDUCATION  Domain_FINANCE  Domain_HEALTH  Domain_OIL  \\\n",
       "0                 0               0              1           0   \n",
       "1                 0               0              0           0   \n",
       "2                 0               0              1           0   \n",
       "3                 0               0              0           0   \n",
       "4                 0               1              0           0   \n",
       "\n",
       "   Domain_SERVICE  Domain_WEB  Salary  \n",
       "0               0           0     130  \n",
       "1               0           1     101  \n",
       "2               0           0     137  \n",
       "3               0           0     142  \n",
       "4               0           0     163  \n",
       "\n",
       "[5 rows x 95 columns]"
      ]
     },
     "execution_count": 23,
     "metadata": {},
     "output_type": "execute_result"
    }
   ],
   "source": [
    "dataset.head()"
   ]
  },
  {
   "cell_type": "markdown",
   "metadata": {},
   "source": [
    "<h3>Converting the dataset into train and test</h3>"
   ]
  },
  {
   "cell_type": "code",
   "execution_count": 25,
   "metadata": {
    "collapsed": true
   },
   "outputs": [],
   "source": [
    "y = dataset.Salary.values\n",
    "del dataset['Salary']\n",
    "X = dataset.values\n"
   ]
  },
  {
   "cell_type": "code",
   "execution_count": 29,
   "metadata": {},
   "outputs": [
    {
     "data": {
      "text/plain": [
       "array([[130],\n",
       "       [101],\n",
       "       [137],\n",
       "       ..., \n",
       "       [ 64],\n",
       "       [149],\n",
       "       [ 88]], dtype=int64)"
      ]
     },
     "execution_count": 29,
     "metadata": {},
     "output_type": "execute_result"
    }
   ],
   "source": [
    "y.reshape(1000000,1)"
   ]
  },
  {
   "cell_type": "code",
   "execution_count": 30,
   "metadata": {
    "collapsed": true
   },
   "outputs": [],
   "source": [
    "X_train, X_test, y_train, y_test = train_test_split(X, y, test_size=0.75, random_state=0)"
   ]
  },
  {
   "cell_type": "markdown",
   "metadata": {},
   "source": [
    "<h3>How is data stored in XGboost?</h3><br>\n",
    "**Data in XGBoost is stored as a DMatrix object. This can be simply created by calling the DMatrix method of the XGBoost model instance.**"
   ]
  },
  {
   "cell_type": "code",
   "execution_count": 32,
   "metadata": {
    "collapsed": true
   },
   "outputs": [],
   "source": [
    "dtrain = xgb.DMatrix(X_train, label=y_train)\n",
    "dtest = xgb.DMatrix(X_test, label=y_test)"
   ]
  },
  {
   "cell_type": "code",
   "execution_count": 46,
   "metadata": {},
   "outputs": [],
   "source": [
    "param = {\n",
    "    'n_estimators' : 50,\n",
    "    'max_depth': 6,  # the maximum depth of each tree\n",
    "    'eta': 0.3,  # the training step for each iteration\n",
    "    'silent': 1,  # logging mode - quiet\n",
    "    'objective': 'reg:linear',\n",
    "    'eval_metric': 'rmse'\n",
    "}\n",
    "# error evaluation for multiclass training\n",
    "num_round = 20  # the number of training iterations"
   ]
  },
  {
   "cell_type": "code",
   "execution_count": 47,
   "metadata": {},
   "outputs": [],
   "source": [
    "bst = xgb.train(param, dtrain, num_round)"
   ]
  },
  {
   "cell_type": "code",
   "execution_count": 48,
   "metadata": {
    "collapsed": true
   },
   "outputs": [],
   "source": [
    "preds = bst.predict(dtest)"
   ]
  },
  {
   "cell_type": "code",
   "execution_count": 54,
   "metadata": {},
   "outputs": [
    {
     "data": {
      "text/plain": [
       "15.576945828305563"
      ]
     },
     "execution_count": 54,
     "metadata": {},
     "output_type": "execute_result"
    }
   ],
   "source": [
    "sklearn.metrics.mean_absolute_error(y_test, preds)"
   ]
  },
  {
   "cell_type": "code",
   "execution_count": null,
   "metadata": {
    "collapsed": true
   },
   "outputs": [],
   "source": [
    "<h1> More work to come...</h1>"
   ]
  }
 ],
 "metadata": {
  "kernelspec": {
   "display_name": "Python 3",
   "language": "python",
   "name": "python3"
  },
  "language_info": {
   "codemirror_mode": {
    "name": "ipython",
    "version": 3
   },
   "file_extension": ".py",
   "mimetype": "text/x-python",
   "name": "python",
   "nbconvert_exporter": "python",
   "pygments_lexer": "ipython3",
   "version": "3.6.3"
  }
 },
 "nbformat": 4,
 "nbformat_minor": 2
}
